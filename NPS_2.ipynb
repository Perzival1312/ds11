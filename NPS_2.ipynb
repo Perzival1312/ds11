{
 "cells": [
  {
   "cell_type": "markdown",
   "metadata": {},
   "source": [
    "# NPS Data Project"
   ]
  },
  {
   "cell_type": "code",
   "execution_count": 197,
   "metadata": {},
   "outputs": [],
   "source": [
    "# importing all required modules\n",
    "import pandas as pd\n",
    "import numpy as np\n",
    "import matplotlib.pyplot as plt\n",
    "import seaborn as sns\n",
    "import math"
   ]
  },
  {
   "cell_type": "code",
   "execution_count": 218,
   "metadata": {},
   "outputs": [],
   "source": [
    "# geting and cleaning dataset\n",
    "df = pd.read_csv('NPS_2017.csv')\n",
    "df.dropna(how='any', inplace=True)"
   ]
  },
  {
   "cell_type": "markdown",
   "metadata": {},
   "source": [
    "### This is a sample of the initial data"
   ]
  },
  {
   "cell_type": "code",
   "execution_count": 221,
   "metadata": {},
   "outputs": [
    {
     "data": {
      "text/html": [
       "<div>\n",
       "<style scoped>\n",
       "    .dataframe tbody tr th:only-of-type {\n",
       "        vertical-align: middle;\n",
       "    }\n",
       "\n",
       "    .dataframe tbody tr th {\n",
       "        vertical-align: top;\n",
       "    }\n",
       "\n",
       "    .dataframe thead th {\n",
       "        text-align: right;\n",
       "    }\n",
       "</style>\n",
       "<table border=\"1\" class=\"dataframe\">\n",
       "  <thead>\n",
       "    <tr style=\"text-align: right;\">\n",
       "      <th></th>\n",
       "      <th>ID</th>\n",
       "      <th>Location</th>\n",
       "      <th>Track</th>\n",
       "      <th>Week</th>\n",
       "      <th>Rating (Num)</th>\n",
       "      <th>Schedule Pacing</th>\n",
       "    </tr>\n",
       "  </thead>\n",
       "  <tbody>\n",
       "    <tr>\n",
       "      <th>0</th>\n",
       "      <td>134</td>\n",
       "      <td>San Francisco</td>\n",
       "      <td>Apps, Explorer</td>\n",
       "      <td>Week 1</td>\n",
       "      <td>3</td>\n",
       "      <td>Just right</td>\n",
       "    </tr>\n",
       "    <tr>\n",
       "      <th>1</th>\n",
       "      <td>36</td>\n",
       "      <td>Los Angeles</td>\n",
       "      <td>Apps</td>\n",
       "      <td>Week 1</td>\n",
       "      <td>4</td>\n",
       "      <td>A little too fast</td>\n",
       "    </tr>\n",
       "    <tr>\n",
       "      <th>2</th>\n",
       "      <td>117</td>\n",
       "      <td>San Francisco</td>\n",
       "      <td>Games</td>\n",
       "      <td>Week 1</td>\n",
       "      <td>4</td>\n",
       "      <td>Way too slow</td>\n",
       "    </tr>\n",
       "    <tr>\n",
       "      <th>4</th>\n",
       "      <td>350</td>\n",
       "      <td>New York City</td>\n",
       "      <td>Apps, Explorer</td>\n",
       "      <td>Week 1</td>\n",
       "      <td>4</td>\n",
       "      <td>Just right</td>\n",
       "    </tr>\n",
       "    <tr>\n",
       "      <th>5</th>\n",
       "      <td>23</td>\n",
       "      <td>Redwood City</td>\n",
       "      <td>Apps</td>\n",
       "      <td>Week 1</td>\n",
       "      <td>5</td>\n",
       "      <td>Just right</td>\n",
       "    </tr>\n",
       "  </tbody>\n",
       "</table>\n",
       "</div>"
      ],
      "text/plain": [
       "    ID       Location           Track    Week Rating (Num)    Schedule Pacing\n",
       "0  134  San Francisco  Apps, Explorer  Week 1            3         Just right\n",
       "1   36    Los Angeles            Apps  Week 1            4  A little too fast\n",
       "2  117  San Francisco           Games  Week 1            4       Way too slow\n",
       "4  350  New York City  Apps, Explorer  Week 1            4         Just right\n",
       "5   23   Redwood City            Apps  Week 1            5         Just right"
      ]
     },
     "execution_count": 221,
     "metadata": {},
     "output_type": "execute_result"
    }
   ],
   "source": [
    "df.head()"
   ]
  },
  {
   "cell_type": "markdown",
   "metadata": {},
   "source": [
    "## Creating Conversion Dictionaries for all of the NPS Data so that it is easier to manipulate."
   ]
  },
  {
   "cell_type": "code",
   "execution_count": 219,
   "metadata": {},
   "outputs": [
    {
     "name": "stdout",
     "output_type": "stream",
     "text": [
      "{'San Francisco': 0, 'Los Angeles': 1, 'New York City': 2, 'Redwood City': 3, 'Santa Clara': 4, 'Oakland': 5, 'Washington DC': 6, 'Chicago': 7, 'Atlanta': 8, 'Hong Kong': 9, 'Beijing': 10, 'Tokyo': 11}\n"
     ]
    }
   ],
   "source": [
    "locs = {}\n",
    "for ind, loc in enumerate(df['Location'].unique()):\n",
    "    locs[loc] = ind\n",
    "print(locs)"
   ]
  },
  {
   "cell_type": "code",
   "execution_count": 220,
   "metadata": {},
   "outputs": [
    {
     "name": "stdout",
     "output_type": "stream",
     "text": [
      "{'3': 0, '4': 1, '5': 2, '6': 3, '7': 4, '8': 5, '9': 6, '10': 7, '1': 8, '2': 9, '0': 10}\n"
     ]
    }
   ],
   "source": [
    "ratings_dict = {}\n",
    "for ind, rat in enumerate(df['Rating (Num)'].unique()):\n",
    "    ratings_dict[rat] = ind\n",
    "print(ratings_dict)"
   ]
  },
  {
   "cell_type": "code",
   "execution_count": 222,
   "metadata": {},
   "outputs": [
    {
     "name": "stdout",
     "output_type": "stream",
     "text": [
      "{'Apps, Explorer': 0, 'Apps': 1, 'Games': 2, 'VR': 3, 'Games, Explorer': 4}\n"
     ]
    }
   ],
   "source": [
    "traks = {}\n",
    "for ind, trc in enumerate(df['Track'].unique()):\n",
    "    traks[trc] = ind\n",
    "print(traks)"
   ]
  },
  {
   "cell_type": "code",
   "execution_count": 239,
   "metadata": {},
   "outputs": [],
   "source": [
    "pace_rev = {}\n",
    "pace = {'Just right': 0, 'A little too fast': 1, 'Way too slow': -2, 'A little too slow': -1, 'Way too fast': 2}\n",
    "for key, val in pace.items():\n",
    "    pace_rev[val] = key"
   ]
  },
  {
   "cell_type": "code",
   "execution_count": 224,
   "metadata": {},
   "outputs": [
    {
     "name": "stdout",
     "output_type": "stream",
     "text": [
      "{'Week 1': 1, 'Week 7': 2, 'Week 2': 3, 'Week 3': 4, 'Week 4': 5, 'Week 5': 6, 'Week 6': 7, 'Week 8': 8}\n"
     ]
    }
   ],
   "source": [
    "week = {}\n",
    "for ind, wk in enumerate(df['Week'].unique()):\n",
    "    week[wk] = ind+1\n",
    "print(week)"
   ]
  },
  {
   "cell_type": "markdown",
   "metadata": {},
   "source": [
    "## Remapping all data to the easier to use version"
   ]
  },
  {
   "cell_type": "code",
   "execution_count": 225,
   "metadata": {},
   "outputs": [],
   "source": [
    "df['Rating'] = df['Rating (Num)'].map( {'1':1, '2':2, '3':3, '4':4, '5':5, '6':6, '7':7, '8':8, '9':9, '10':10, '0':0} ).astype(int)"
   ]
  },
  {
   "cell_type": "code",
   "execution_count": 226,
   "metadata": {},
   "outputs": [],
   "source": [
    "df['Pacing'] = df['Schedule Pacing'].map(pace).astype(int)"
   ]
  },
  {
   "cell_type": "code",
   "execution_count": 227,
   "metadata": {},
   "outputs": [],
   "source": [
    "df['Track'] = df['Track'].map(traks).astype(int)"
   ]
  },
  {
   "cell_type": "code",
   "execution_count": 228,
   "metadata": {},
   "outputs": [],
   "source": [
    "df['Week'] = df['Week'].map(week).astype(int)"
   ]
  },
  {
   "cell_type": "code",
   "execution_count": 229,
   "metadata": {},
   "outputs": [],
   "source": [
    "df['Location'] = df['Location'].map(locs).astype(int)"
   ]
  },
  {
   "cell_type": "code",
   "execution_count": 230,
   "metadata": {},
   "outputs": [],
   "source": [
    "df.drop(columns=['Rating (Num)', 'Schedule Pacing'], inplace=True)"
   ]
  },
  {
   "cell_type": "markdown",
   "metadata": {},
   "source": [
    "### Now all of the data looks like this!"
   ]
  },
  {
   "cell_type": "code",
   "execution_count": 240,
   "metadata": {},
   "outputs": [
    {
     "data": {
      "text/html": [
       "<div>\n",
       "<style scoped>\n",
       "    .dataframe tbody tr th:only-of-type {\n",
       "        vertical-align: middle;\n",
       "    }\n",
       "\n",
       "    .dataframe tbody tr th {\n",
       "        vertical-align: top;\n",
       "    }\n",
       "\n",
       "    .dataframe thead th {\n",
       "        text-align: right;\n",
       "    }\n",
       "</style>\n",
       "<table border=\"1\" class=\"dataframe\">\n",
       "  <thead>\n",
       "    <tr style=\"text-align: right;\">\n",
       "      <th></th>\n",
       "      <th>ID</th>\n",
       "      <th>Location</th>\n",
       "      <th>Track</th>\n",
       "      <th>Week</th>\n",
       "      <th>Rating</th>\n",
       "      <th>Pacing</th>\n",
       "      <th>NPS</th>\n",
       "    </tr>\n",
       "  </thead>\n",
       "  <tbody>\n",
       "    <tr>\n",
       "      <th>0</th>\n",
       "      <td>134</td>\n",
       "      <td>0</td>\n",
       "      <td>0</td>\n",
       "      <td>1</td>\n",
       "      <td>3</td>\n",
       "      <td>0</td>\n",
       "      <td>-1</td>\n",
       "    </tr>\n",
       "    <tr>\n",
       "      <th>626</th>\n",
       "      <td>660</td>\n",
       "      <td>0</td>\n",
       "      <td>0</td>\n",
       "      <td>5</td>\n",
       "      <td>8</td>\n",
       "      <td>1</td>\n",
       "      <td>0</td>\n",
       "    </tr>\n",
       "    <tr>\n",
       "      <th>625</th>\n",
       "      <td>659</td>\n",
       "      <td>0</td>\n",
       "      <td>1</td>\n",
       "      <td>5</td>\n",
       "      <td>8</td>\n",
       "      <td>0</td>\n",
       "      <td>0</td>\n",
       "    </tr>\n",
       "    <tr>\n",
       "      <th>624</th>\n",
       "      <td>658</td>\n",
       "      <td>0</td>\n",
       "      <td>1</td>\n",
       "      <td>5</td>\n",
       "      <td>10</td>\n",
       "      <td>0</td>\n",
       "      <td>1</td>\n",
       "    </tr>\n",
       "    <tr>\n",
       "      <th>519</th>\n",
       "      <td>549</td>\n",
       "      <td>0</td>\n",
       "      <td>1</td>\n",
       "      <td>4</td>\n",
       "      <td>9</td>\n",
       "      <td>0</td>\n",
       "      <td>1</td>\n",
       "    </tr>\n",
       "  </tbody>\n",
       "</table>\n",
       "</div>"
      ],
      "text/plain": [
       "      ID  Location  Track  Week  Rating  Pacing  NPS\n",
       "0    134         0      0     1       3       0   -1\n",
       "626  660         0      0     5       8       1    0\n",
       "625  659         0      1     5       8       0    0\n",
       "624  658         0      1     5      10       0    1\n",
       "519  549         0      1     4       9       0    1"
      ]
     },
     "execution_count": 240,
     "metadata": {},
     "output_type": "execute_result"
    }
   ],
   "source": [
    "df.head()"
   ]
  },
  {
   "cell_type": "markdown",
   "metadata": {},
   "source": [
    "## Now that the data is easily usable with code its time to extract some answers from the data."
   ]
  },
  {
   "cell_type": "code",
   "execution_count": 232,
   "metadata": {},
   "outputs": [],
   "source": [
    "# Promoter (9 – 10)\n",
    "# Passive (7 – 8)\n",
    "# Detractor (1 – 6)\n",
    "\n",
    "df['NPS'] = df['Rating'].map({10:1, 9:1, 8:0, 7:0, 6:-1, 5:-1, 4:-1, 3:-1, 2:-1, 1:-1, 0:-1}).astype(int)"
   ]
  },
  {
   "cell_type": "code",
   "execution_count": 246,
   "metadata": {},
   "outputs": [
    {
     "name": "stdout",
     "output_type": "stream",
     "text": [
      "{'San Francisco': 0.45, 'Los Angeles': 0.5, 'New York City': 0.3484848484848485, 'Redwood City': 0.3275862068965517, 'Santa Clara': 0.42786069651741293, 'Oakland': 0.5319148936170213, 'Washington DC': 0.7021276595744681, 'Chicago': 0.5428571428571428, 'Atlanta': 0.24242424242424243, 'Hong Kong': 1.0909090909090908, 'Beijing': 0.6666666666666666, 'Tokyo': 0.676923076923077}\n"
     ]
    }
   ],
   "source": [
    "loc_nums = sorted(list(df['Location'].value_counts().items()))\n",
    "location_data = {}\n",
    "running_count = 0\n",
    "# Make sure overall data is sorted so that slices get the correct values\n",
    "df.sort_values('Location', inplace=True)\n",
    "\n",
    "weeks = {}\n",
    "speed = {}\n",
    "\n",
    "for ind, loc in enumerate(loc_nums):\n",
    "    city_num, count = loc[0], loc[1]\n",
    "    week_max = 0\n",
    "    data_range = df[running_count+1:running_count+count]\n",
    "    # initial case \n",
    "    if ind==0:\n",
    "        location_data[city_num] = df[:count]\n",
    "    else:\n",
    "        location_data[city_num] = data_range\n",
    "    speed[city_num] = (data_range['Pacing'].sum())/count\n",
    "    week_max = data_range['Week'].max()\n",
    "    running_count += count\n",
    "    weeks[city_num] = week_max\n",
    "presentable_dict = {}\n",
    "count_nps = {}\n",
    "presentable_weeks = {}\n",
    "speed_loc = {}\n",
    "\n",
    "# making data presentable\n",
    "for key, value in location_data.items():\n",
    "    city_name = ''\n",
    "    for l, i in locs.items():\n",
    "        if i == location_data[key].loc[:, 'Location'].iat[4]:\n",
    "            city_name = l\n",
    "            presentable_weeks[city_name] = weeks[i] \n",
    "            speed_loc[city_name] = speed[i]\n",
    "    presentable_dict[city_name] = (location_data[key]['NPS'].sum()/(location_data[key]['NPS'].count()))*100\n",
    "    count_nps[city_name] = location_data[key]['NPS'].count()\n",
    "#     speed_loc[city]\n",
    "\n",
    "\n",
    "print(speed_loc)\n",
    "# print(presentable_dict, weeks, locs, presentable_weeks)"
   ]
  },
  {
   "cell_type": "markdown",
   "metadata": {},
   "source": [
    "## Combine all the data into a more presentable fashion."
   ]
  },
  {
   "cell_type": "code",
   "execution_count": 250,
   "metadata": {},
   "outputs": [
    {
     "data": {
      "text/html": [
       "<div>\n",
       "<style scoped>\n",
       "    .dataframe tbody tr th:only-of-type {\n",
       "        vertical-align: middle;\n",
       "    }\n",
       "\n",
       "    .dataframe tbody tr th {\n",
       "        vertical-align: top;\n",
       "    }\n",
       "\n",
       "    .dataframe thead th {\n",
       "        text-align: right;\n",
       "    }\n",
       "</style>\n",
       "<table border=\"1\" class=\"dataframe\">\n",
       "  <thead>\n",
       "    <tr style=\"text-align: right;\">\n",
       "      <th></th>\n",
       "      <th>Score</th>\n",
       "      <th>Count</th>\n",
       "      <th>Weeks</th>\n",
       "      <th>Ave. Pacing</th>\n",
       "      <th>C/W</th>\n",
       "    </tr>\n",
       "  </thead>\n",
       "  <tbody>\n",
       "    <tr>\n",
       "      <th>Atlanta</th>\n",
       "      <td>75.000000</td>\n",
       "      <td>32</td>\n",
       "      <td>6</td>\n",
       "      <td>0.242424</td>\n",
       "      <td>5.0</td>\n",
       "    </tr>\n",
       "    <tr>\n",
       "      <th>Redwood City</th>\n",
       "      <td>43.859649</td>\n",
       "      <td>57</td>\n",
       "      <td>7</td>\n",
       "      <td>0.327586</td>\n",
       "      <td>8.0</td>\n",
       "    </tr>\n",
       "    <tr>\n",
       "      <th>New York City</th>\n",
       "      <td>37.689970</td>\n",
       "      <td>329</td>\n",
       "      <td>7</td>\n",
       "      <td>0.348485</td>\n",
       "      <td>47.0</td>\n",
       "    </tr>\n",
       "    <tr>\n",
       "      <th>Santa Clara</th>\n",
       "      <td>39.500000</td>\n",
       "      <td>200</td>\n",
       "      <td>7</td>\n",
       "      <td>0.427861</td>\n",
       "      <td>29.0</td>\n",
       "    </tr>\n",
       "    <tr>\n",
       "      <th>San Francisco</th>\n",
       "      <td>45.277778</td>\n",
       "      <td>360</td>\n",
       "      <td>8</td>\n",
       "      <td>0.450000</td>\n",
       "      <td>45.0</td>\n",
       "    </tr>\n",
       "    <tr>\n",
       "      <th>Los Angeles</th>\n",
       "      <td>59.047619</td>\n",
       "      <td>105</td>\n",
       "      <td>8</td>\n",
       "      <td>0.500000</td>\n",
       "      <td>13.0</td>\n",
       "    </tr>\n",
       "    <tr>\n",
       "      <th>Oakland</th>\n",
       "      <td>52.173913</td>\n",
       "      <td>46</td>\n",
       "      <td>7</td>\n",
       "      <td>0.531915</td>\n",
       "      <td>7.0</td>\n",
       "    </tr>\n",
       "    <tr>\n",
       "      <th>Chicago</th>\n",
       "      <td>47.826087</td>\n",
       "      <td>69</td>\n",
       "      <td>7</td>\n",
       "      <td>0.542857</td>\n",
       "      <td>10.0</td>\n",
       "    </tr>\n",
       "    <tr>\n",
       "      <th>Beijing</th>\n",
       "      <td>67.532468</td>\n",
       "      <td>77</td>\n",
       "      <td>4</td>\n",
       "      <td>0.666667</td>\n",
       "      <td>19.0</td>\n",
       "    </tr>\n",
       "    <tr>\n",
       "      <th>Tokyo</th>\n",
       "      <td>37.500000</td>\n",
       "      <td>64</td>\n",
       "      <td>4</td>\n",
       "      <td>0.676923</td>\n",
       "      <td>16.0</td>\n",
       "    </tr>\n",
       "    <tr>\n",
       "      <th>Washington DC</th>\n",
       "      <td>30.434783</td>\n",
       "      <td>46</td>\n",
       "      <td>7</td>\n",
       "      <td>0.702128</td>\n",
       "      <td>7.0</td>\n",
       "    </tr>\n",
       "    <tr>\n",
       "      <th>Hong Kong</th>\n",
       "      <td>-20.000000</td>\n",
       "      <td>10</td>\n",
       "      <td>3</td>\n",
       "      <td>1.090909</td>\n",
       "      <td>3.0</td>\n",
       "    </tr>\n",
       "  </tbody>\n",
       "</table>\n",
       "</div>"
      ],
      "text/plain": [
       "                   Score  Count  Weeks  Ave. Pacing   C/W\n",
       "Atlanta        75.000000     32      6     0.242424   5.0\n",
       "Redwood City   43.859649     57      7     0.327586   8.0\n",
       "New York City  37.689970    329      7     0.348485  47.0\n",
       "Santa Clara    39.500000    200      7     0.427861  29.0\n",
       "San Francisco  45.277778    360      8     0.450000  45.0\n",
       "Los Angeles    59.047619    105      8     0.500000  13.0\n",
       "Oakland        52.173913     46      7     0.531915   7.0\n",
       "Chicago        47.826087     69      7     0.542857  10.0\n",
       "Beijing        67.532468     77      4     0.666667  19.0\n",
       "Tokyo          37.500000     64      4     0.676923  16.0\n",
       "Washington DC  30.434783     46      7     0.702128   7.0\n",
       "Hong Kong     -20.000000     10      3     1.090909   3.0"
      ]
     },
     "execution_count": 250,
     "metadata": {},
     "output_type": "execute_result"
    }
   ],
   "source": [
    "location_nps = pd.DataFrame.from_dict(presentable_dict, orient='index', columns=['Score'])\n",
    "\n",
    "count_df = pd.DataFrame.from_dict(count_nps, orient='index', columns=['Count'])\n",
    "\n",
    "weeks_df = pd.DataFrame.from_dict(presentable_weeks, orient='index', columns=['Weeks'])\n",
    "\n",
    "speed_df = pd.DataFrame.from_dict(speed_loc, orient='index', columns=['Ave. Pacing'])\n",
    "\n",
    "location_nps = location_nps.join(count_df)\n",
    "location_nps = location_nps.join(weeks_df)\n",
    "location_nps = location_nps.join(speed_df)\n",
    "\n",
    "location_nps['C/W'] = np.rint(location_nps['Count']/location_nps['Weeks'])\n",
    "\n",
    "\n",
    "\n",
    "location_nps"
   ]
  },
  {
   "cell_type": "code",
   "execution_count": 272,
   "metadata": {
    "scrolled": false
   },
   "outputs": [
    {
     "data": {
      "text/plain": [
       "<matplotlib.axes._subplots.AxesSubplot at 0x11dde5240>"
      ]
     },
     "execution_count": 272,
     "metadata": {},
     "output_type": "execute_result"
    },
    {
     "data": {
      "image/png": "[encoded data removed]",
      "text/plain": [
       "<Figure size 432x288 with 1 Axes>"
      ]
     },
     "metadata": {
      "needs_background": "light"
     },
     "output_type": "display_data"
    },
    {
     "data": {
      "image/png": "[encoded data removed]",
      "text/plain": [
       "<Figure size 432x288 with 1 Axes>"
      ]
     },
     "metadata": {
      "needs_background": "light"
     },
     "output_type": "display_data"
    },
    {
     "data": {
      "image/png": "[encoded data removed]",
      "text/plain": [
       "<Figure size 432x288 with 1 Axes>"
      ]
     },
     "metadata": {
      "needs_background": "light"
     },
     "output_type": "display_data"
    },
    {
     "data": {
      "image/png": "[encoded data removed]",
      "text/plain": [
       "<Figure size 432x288 with 1 Axes>"
      ]
     },
     "metadata": {
      "needs_background": "light"
     },
     "output_type": "display_data"
    }
   ],
   "source": [
    "location_nps.sort_values('C/W', inplace=True)\n",
    "location_nps.plot.bar(y=['Score'], title='Score sorted by responses per week(Least to Most)')\n",
    "\n",
    "location_nps.plot.bar(y=['C/W'], title='Responses per week')\n",
    "\n",
    "\n",
    "location_nps.sort_values('Ave. Pacing', inplace=True)\n",
    "location_nps.plot.bar(y=['Score'], title='Score sorted by Average pacing over all of the weeks(Slow to Fast)')\n",
    "\n",
    "location_nps.plot.line(y='Score', x='Ave. Pacing', title='Relationship between Pace and Rating')"
   ]
  },
  {
   "cell_type": "markdown",
   "metadata": {},
   "source": [
    "# Conclusions:\n",
    "\n",
    "1. Hong Kongs Data is simply useless with so few responses\n",
    "2. Multiple cities including Washington D.C. and Oakland have a rather small amount of resposes so those cities data should be trusted less\n",
    "* Beijing is an oddity:\n",
    "  * Has the nearly the highest NPS, second only Atlanta, a city with minimal data\n",
    "  * Has one of the fastest average pacings\n",
    "  * Those stats are held with the 4th most resposes out of all cities\n",
    "* Therefore Beijing is an excellent school and is arguably the top performing city\n"
   ]
  }
 ],
 "metadata": {
  "kernelspec": {
   "display_name": "Python 3",
   "language": "python",
   "name": "python3"
  },
  "language_info": {
   "codemirror_mode": {
    "name": "ipython",
    "version": 3
   },
   "file_extension": ".py",
   "mimetype": "text/x-python",
   "name": "python",
   "nbconvert_exporter": "python",
   "pygments_lexer": "ipython3",
   "version": "3.7.2"
  }
 },
 "nbformat": 4,
 "nbformat_minor": 4
}
