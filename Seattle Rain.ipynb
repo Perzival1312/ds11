{
 "cells": [
  {
   "cell_type": "markdown",
   "metadata": {
    "slideshow": {
     "slide_type": "slide"
    }
   },
   "source": [
    "# Rain in Seattle!"
   ]
  },
  {
   "cell_type": "markdown",
   "metadata": {
    "slideshow": {
     "slide_type": "slide"
    }
   },
   "source": [
    "## import all need Modules"
   ]
  },
  {
   "cell_type": "code",
   "execution_count": 1,
   "metadata": {
    "slideshow": {
     "slide_type": "-"
    }
   },
   "outputs": [],
   "source": [
    "# importing all required modules\n",
    "import pandas as pd\n",
    "import numpy as np\n",
    "import matplotlib.pyplot as plt\n",
    "import seaborn as sns\n",
    "import math"
   ]
  },
  {
   "cell_type": "code",
   "execution_count": 372,
   "metadata": {
    "slideshow": {
     "slide_type": "-"
    }
   },
   "outputs": [],
   "source": [
    "import warnings\n",
    "warnings.filterwarnings('ignore')"
   ]
  },
  {
   "cell_type": "markdown",
   "metadata": {
    "slideshow": {
     "slide_type": "slide"
    }
   },
   "source": [
    "## import and show data sample"
   ]
  },
  {
   "cell_type": "code",
   "execution_count": 33,
   "metadata": {
    "slideshow": {
     "slide_type": "-"
    }
   },
   "outputs": [
    {
     "data": {
      "text/html": [
       "<div>\n",
       "<style scoped>\n",
       "    .dataframe tbody tr th:only-of-type {\n",
       "        vertical-align: middle;\n",
       "    }\n",
       "\n",
       "    .dataframe tbody tr th {\n",
       "        vertical-align: top;\n",
       "    }\n",
       "\n",
       "    .dataframe thead th {\n",
       "        text-align: right;\n",
       "    }\n",
       "</style>\n",
       "<table border=\"1\" class=\"dataframe\">\n",
       "  <thead>\n",
       "    <tr style=\"text-align: right;\">\n",
       "      <th></th>\n",
       "      <th>DATE</th>\n",
       "      <th>PRCP</th>\n",
       "      <th>TMAX</th>\n",
       "      <th>TMIN</th>\n",
       "      <th>RAIN</th>\n",
       "    </tr>\n",
       "  </thead>\n",
       "  <tbody>\n",
       "    <tr>\n",
       "      <th>0</th>\n",
       "      <td>1948-01-01</td>\n",
       "      <td>0.47</td>\n",
       "      <td>51</td>\n",
       "      <td>42</td>\n",
       "      <td>True</td>\n",
       "    </tr>\n",
       "    <tr>\n",
       "      <th>1</th>\n",
       "      <td>1948-01-02</td>\n",
       "      <td>0.59</td>\n",
       "      <td>45</td>\n",
       "      <td>36</td>\n",
       "      <td>True</td>\n",
       "    </tr>\n",
       "    <tr>\n",
       "      <th>2</th>\n",
       "      <td>1948-01-03</td>\n",
       "      <td>0.42</td>\n",
       "      <td>45</td>\n",
       "      <td>35</td>\n",
       "      <td>True</td>\n",
       "    </tr>\n",
       "    <tr>\n",
       "      <th>3</th>\n",
       "      <td>1948-01-04</td>\n",
       "      <td>0.31</td>\n",
       "      <td>45</td>\n",
       "      <td>34</td>\n",
       "      <td>True</td>\n",
       "    </tr>\n",
       "    <tr>\n",
       "      <th>4</th>\n",
       "      <td>1948-01-05</td>\n",
       "      <td>0.17</td>\n",
       "      <td>45</td>\n",
       "      <td>32</td>\n",
       "      <td>True</td>\n",
       "    </tr>\n",
       "  </tbody>\n",
       "</table>\n",
       "</div>"
      ],
      "text/plain": [
       "         DATE  PRCP  TMAX  TMIN  RAIN\n",
       "0  1948-01-01  0.47    51    42  True\n",
       "1  1948-01-02  0.59    45    36  True\n",
       "2  1948-01-03  0.42    45    35  True\n",
       "3  1948-01-04  0.31    45    34  True\n",
       "4  1948-01-05  0.17    45    32  True"
      ]
     },
     "execution_count": 33,
     "metadata": {},
     "output_type": "execute_result"
    }
   ],
   "source": [
    "df = pd.read_csv('seattleWeather_1948-2017.csv')\n",
    "df.head()"
   ]
  },
  {
   "cell_type": "markdown",
   "metadata": {
    "slideshow": {
     "slide_type": "slide"
    }
   },
   "source": [
    "## Convert date strings into datetime objects"
   ]
  },
  {
   "cell_type": "code",
   "execution_count": 78,
   "metadata": {
    "slideshow": {
     "slide_type": "-"
    }
   },
   "outputs": [
    {
     "data": {
      "text/html": [
       "<div>\n",
       "<style scoped>\n",
       "    .dataframe tbody tr th:only-of-type {\n",
       "        vertical-align: middle;\n",
       "    }\n",
       "\n",
       "    .dataframe tbody tr th {\n",
       "        vertical-align: top;\n",
       "    }\n",
       "\n",
       "    .dataframe thead th {\n",
       "        text-align: right;\n",
       "    }\n",
       "</style>\n",
       "<table border=\"1\" class=\"dataframe\">\n",
       "  <thead>\n",
       "    <tr style=\"text-align: right;\">\n",
       "      <th></th>\n",
       "      <th>DATE</th>\n",
       "      <th>PRCP</th>\n",
       "      <th>TMAX</th>\n",
       "      <th>TMIN</th>\n",
       "      <th>RAIN</th>\n",
       "    </tr>\n",
       "  </thead>\n",
       "  <tbody>\n",
       "    <tr>\n",
       "      <th>0</th>\n",
       "      <td>1949-08-01</td>\n",
       "      <td>0.00</td>\n",
       "      <td>92</td>\n",
       "      <td>62</td>\n",
       "      <td>False</td>\n",
       "    </tr>\n",
       "    <tr>\n",
       "      <th>1</th>\n",
       "      <td>1949-08-02</td>\n",
       "      <td>0.00</td>\n",
       "      <td>74</td>\n",
       "      <td>55</td>\n",
       "      <td>False</td>\n",
       "    </tr>\n",
       "    <tr>\n",
       "      <th>2</th>\n",
       "      <td>1949-08-03</td>\n",
       "      <td>0.00</td>\n",
       "      <td>71</td>\n",
       "      <td>55</td>\n",
       "      <td>False</td>\n",
       "    </tr>\n",
       "    <tr>\n",
       "      <th>3</th>\n",
       "      <td>1949-08-04</td>\n",
       "      <td>0.02</td>\n",
       "      <td>73</td>\n",
       "      <td>55</td>\n",
       "      <td>True</td>\n",
       "    </tr>\n",
       "    <tr>\n",
       "      <th>4</th>\n",
       "      <td>1949-08-05</td>\n",
       "      <td>0.00</td>\n",
       "      <td>74</td>\n",
       "      <td>53</td>\n",
       "      <td>False</td>\n",
       "    </tr>\n",
       "    <tr>\n",
       "      <th>...</th>\n",
       "      <td>...</td>\n",
       "      <td>...</td>\n",
       "      <td>...</td>\n",
       "      <td>...</td>\n",
       "      <td>...</td>\n",
       "    </tr>\n",
       "    <tr>\n",
       "      <th>207</th>\n",
       "      <td>1950-02-24</td>\n",
       "      <td>0.15</td>\n",
       "      <td>49</td>\n",
       "      <td>41</td>\n",
       "      <td>True</td>\n",
       "    </tr>\n",
       "    <tr>\n",
       "      <th>208</th>\n",
       "      <td>1950-02-25</td>\n",
       "      <td>0.80</td>\n",
       "      <td>58</td>\n",
       "      <td>41</td>\n",
       "      <td>True</td>\n",
       "    </tr>\n",
       "    <tr>\n",
       "      <th>209</th>\n",
       "      <td>1950-02-26</td>\n",
       "      <td>0.35</td>\n",
       "      <td>53</td>\n",
       "      <td>36</td>\n",
       "      <td>True</td>\n",
       "    </tr>\n",
       "    <tr>\n",
       "      <th>210</th>\n",
       "      <td>1950-02-27</td>\n",
       "      <td>0.00</td>\n",
       "      <td>46</td>\n",
       "      <td>31</td>\n",
       "      <td>False</td>\n",
       "    </tr>\n",
       "    <tr>\n",
       "      <th>211</th>\n",
       "      <td>1950-02-28</td>\n",
       "      <td>0.00</td>\n",
       "      <td>50</td>\n",
       "      <td>29</td>\n",
       "      <td>False</td>\n",
       "    </tr>\n",
       "  </tbody>\n",
       "</table>\n",
       "<p>212 rows × 5 columns</p>\n",
       "</div>"
      ],
      "text/plain": [
       "           DATE  PRCP  TMAX  TMIN   RAIN\n",
       "0    1949-08-01  0.00    92    62  False\n",
       "1    1949-08-02  0.00    74    55  False\n",
       "2    1949-08-03  0.00    71    55  False\n",
       "3    1949-08-04  0.02    73    55   True\n",
       "4    1949-08-05  0.00    74    53  False\n",
       "..          ...   ...   ...   ...    ...\n",
       "207  1950-02-24  0.15    49    41   True\n",
       "208  1950-02-25  0.80    58    41   True\n",
       "209  1950-02-26  0.35    53    36   True\n",
       "210  1950-02-27  0.00    46    31  False\n",
       "211  1950-02-28  0.00    50    29  False\n",
       "\n",
       "[212 rows x 5 columns]"
      ]
     },
     "execution_count": 78,
     "metadata": {},
     "output_type": "execute_result"
    }
   ],
   "source": [
    "pd.to_datetime(df['DATE'])"
   ]
  },
  {
   "cell_type": "markdown",
   "metadata": {
    "slideshow": {
     "slide_type": "slide"
    }
   },
   "source": [
    "## Pre-Processing the data"
   ]
  },
  {
   "cell_type": "code",
   "execution_count": 339,
   "metadata": {
    "scrolled": true,
    "slideshow": {
     "slide_type": "-"
    }
   },
   "outputs": [],
   "source": [
    "monthly_sums, prcp_sums = {}, {}\n",
    "mt_dic, yt_dic = {}, {}\n",
    "for y in range(1949, 2017):\n",
    "    monthly_sums, mt_dic = {}, {}\n",
    "    for m in range(1, 13):\n",
    "        # Find monthly rain total\n",
    "        m_total, t_ave = 0, 0\n",
    "        t_ave = df[df['DATE']<str(y)+'-'+str(m+1).zfill(2)].merge(df[df['DATE']>str(y)+'-'+str(m).zfill(2)])['TMAX'].mean()\n",
    "        m_total = df[df['DATE']<str(y)+'-'+str(m+1).zfill(2)].merge(df[df['DATE']>str(y)+'-'+str(m).zfill(2)])['PRCP'].sum()\n",
    "        monthly_sums[m] = m_total\n",
    "        mt_dic[m] = t_ave\n",
    "    prcp_sums[y] = monthly_sums\n",
    "    yt_dic[y] = mt_dic\n",
    "\n",
    "# Create Dataframe for monthly data\n",
    "rain=pd.DataFrame()\n",
    "temps=pd.DataFrame()\n",
    "for yr, mo in prcp_sums.items():\n",
    "    rain[yr] = mo.values()\n",
    "for yr, tave in yt_dic.items():\n",
    "    temps[yr] = tave.values()\n"
   ]
  },
  {
   "cell_type": "markdown",
   "metadata": {
    "slideshow": {
     "slide_type": "slide"
    }
   },
   "source": [
    "## processed data sample"
   ]
  },
  {
   "cell_type": "code",
   "execution_count": 303,
   "metadata": {
    "scrolled": false,
    "slideshow": {
     "slide_type": "-"
    }
   },
   "outputs": [
    {
     "data": {
      "text/html": [
       "<div>\n",
       "<style scoped>\n",
       "    .dataframe tbody tr th:only-of-type {\n",
       "        vertical-align: middle;\n",
       "    }\n",
       "\n",
       "    .dataframe tbody tr th {\n",
       "        vertical-align: top;\n",
       "    }\n",
       "\n",
       "    .dataframe thead th {\n",
       "        text-align: right;\n",
       "    }\n",
       "</style>\n",
       "<table border=\"1\" class=\"dataframe\">\n",
       "  <thead>\n",
       "    <tr style=\"text-align: right;\">\n",
       "      <th></th>\n",
       "      <th>1949</th>\n",
       "      <th>1950</th>\n",
       "      <th>1951</th>\n",
       "      <th>1952</th>\n",
       "      <th>1953</th>\n",
       "      <th>1954</th>\n",
       "      <th>1955</th>\n",
       "      <th>1956</th>\n",
       "      <th>1957</th>\n",
       "      <th>1958</th>\n",
       "      <th>...</th>\n",
       "      <th>2007</th>\n",
       "      <th>2008</th>\n",
       "      <th>2009</th>\n",
       "      <th>2010</th>\n",
       "      <th>2011</th>\n",
       "      <th>2012</th>\n",
       "      <th>2013</th>\n",
       "      <th>2014</th>\n",
       "      <th>2015</th>\n",
       "      <th>2016</th>\n",
       "    </tr>\n",
       "  </thead>\n",
       "  <tbody>\n",
       "    <tr>\n",
       "      <th>0</th>\n",
       "      <td>37.258065</td>\n",
       "      <td>30.677419</td>\n",
       "      <td>42.161290</td>\n",
       "      <td>41.548387</td>\n",
       "      <td>48.967742</td>\n",
       "      <td>40.677419</td>\n",
       "      <td>43.645161</td>\n",
       "      <td>44.322581</td>\n",
       "      <td>37.870968</td>\n",
       "      <td>48.741935</td>\n",
       "      <td>...</td>\n",
       "      <td>43.580645</td>\n",
       "      <td>43.612903</td>\n",
       "      <td>43.677419</td>\n",
       "      <td>51.451613</td>\n",
       "      <td>46.225806</td>\n",
       "      <td>44.709677</td>\n",
       "      <td>43.000000</td>\n",
       "      <td>49.290323</td>\n",
       "      <td>50.290323</td>\n",
       "      <td>49.064516</td>\n",
       "    </tr>\n",
       "    <tr>\n",
       "      <th>1</th>\n",
       "      <td>44.071429</td>\n",
       "      <td>46.107143</td>\n",
       "      <td>46.750000</td>\n",
       "      <td>46.586207</td>\n",
       "      <td>46.035714</td>\n",
       "      <td>48.714286</td>\n",
       "      <td>44.321429</td>\n",
       "      <td>40.724138</td>\n",
       "      <td>45.607143</td>\n",
       "      <td>53.285714</td>\n",
       "      <td>...</td>\n",
       "      <td>48.714286</td>\n",
       "      <td>49.620690</td>\n",
       "      <td>48.500000</td>\n",
       "      <td>53.071429</td>\n",
       "      <td>45.035714</td>\n",
       "      <td>48.689655</td>\n",
       "      <td>49.035714</td>\n",
       "      <td>46.750000</td>\n",
       "      <td>54.535714</td>\n",
       "      <td>53.551724</td>\n",
       "    </tr>\n",
       "    <tr>\n",
       "      <th>2</th>\n",
       "      <td>53.225806</td>\n",
       "      <td>47.935484</td>\n",
       "      <td>46.387097</td>\n",
       "      <td>48.838710</td>\n",
       "      <td>50.096774</td>\n",
       "      <td>49.935484</td>\n",
       "      <td>46.064516</td>\n",
       "      <td>47.516129</td>\n",
       "      <td>50.322581</td>\n",
       "      <td>51.612903</td>\n",
       "      <td>...</td>\n",
       "      <td>53.483871</td>\n",
       "      <td>49.935484</td>\n",
       "      <td>48.000000</td>\n",
       "      <td>54.451613</td>\n",
       "      <td>51.387097</td>\n",
       "      <td>49.193548</td>\n",
       "      <td>54.870968</td>\n",
       "      <td>55.225806</td>\n",
       "      <td>57.870968</td>\n",
       "      <td>56.419355</td>\n",
       "    </tr>\n",
       "    <tr>\n",
       "      <th>3</th>\n",
       "      <td>59.400000</td>\n",
       "      <td>55.233333</td>\n",
       "      <td>61.066667</td>\n",
       "      <td>58.833333</td>\n",
       "      <td>54.933333</td>\n",
       "      <td>53.533333</td>\n",
       "      <td>52.833333</td>\n",
       "      <td>59.800000</td>\n",
       "      <td>57.833333</td>\n",
       "      <td>57.966667</td>\n",
       "      <td>...</td>\n",
       "      <td>58.700000</td>\n",
       "      <td>55.100000</td>\n",
       "      <td>57.700000</td>\n",
       "      <td>56.500000</td>\n",
       "      <td>52.233333</td>\n",
       "      <td>58.766667</td>\n",
       "      <td>57.633333</td>\n",
       "      <td>59.833333</td>\n",
       "      <td>59.900000</td>\n",
       "      <td>65.900000</td>\n",
       "    </tr>\n",
       "    <tr>\n",
       "      <th>4</th>\n",
       "      <td>68.419355</td>\n",
       "      <td>61.645161</td>\n",
       "      <td>64.612903</td>\n",
       "      <td>63.935484</td>\n",
       "      <td>61.709677</td>\n",
       "      <td>63.580645</td>\n",
       "      <td>58.935484</td>\n",
       "      <td>67.193548</td>\n",
       "      <td>66.645161</td>\n",
       "      <td>70.645161</td>\n",
       "      <td>...</td>\n",
       "      <td>66.387097</td>\n",
       "      <td>63.935484</td>\n",
       "      <td>65.870968</td>\n",
       "      <td>60.838710</td>\n",
       "      <td>59.741935</td>\n",
       "      <td>63.806452</td>\n",
       "      <td>67.322581</td>\n",
       "      <td>67.774194</td>\n",
       "      <td>68.032258</td>\n",
       "      <td>68.838710</td>\n",
       "    </tr>\n",
       "  </tbody>\n",
       "</table>\n",
       "<p>5 rows × 68 columns</p>\n",
       "</div>"
      ],
      "text/plain": [
       "        1949       1950       1951       1952       1953       1954  \\\n",
       "0  37.258065  30.677419  42.161290  41.548387  48.967742  40.677419   \n",
       "1  44.071429  46.107143  46.750000  46.586207  46.035714  48.714286   \n",
       "2  53.225806  47.935484  46.387097  48.838710  50.096774  49.935484   \n",
       "3  59.400000  55.233333  61.066667  58.833333  54.933333  53.533333   \n",
       "4  68.419355  61.645161  64.612903  63.935484  61.709677  63.580645   \n",
       "\n",
       "        1955       1956       1957       1958  ...       2007       2008  \\\n",
       "0  43.645161  44.322581  37.870968  48.741935  ...  43.580645  43.612903   \n",
       "1  44.321429  40.724138  45.607143  53.285714  ...  48.714286  49.620690   \n",
       "2  46.064516  47.516129  50.322581  51.612903  ...  53.483871  49.935484   \n",
       "3  52.833333  59.800000  57.833333  57.966667  ...  58.700000  55.100000   \n",
       "4  58.935484  67.193548  66.645161  70.645161  ...  66.387097  63.935484   \n",
       "\n",
       "        2009       2010       2011       2012       2013       2014  \\\n",
       "0  43.677419  51.451613  46.225806  44.709677  43.000000  49.290323   \n",
       "1  48.500000  53.071429  45.035714  48.689655  49.035714  46.750000   \n",
       "2  48.000000  54.451613  51.387097  49.193548  54.870968  55.225806   \n",
       "3  57.700000  56.500000  52.233333  58.766667  57.633333  59.833333   \n",
       "4  65.870968  60.838710  59.741935  63.806452  67.322581  67.774194   \n",
       "\n",
       "        2015       2016  \n",
       "0  50.290323  49.064516  \n",
       "1  54.535714  53.551724  \n",
       "2  57.870968  56.419355  \n",
       "3  59.900000  65.900000  \n",
       "4  68.032258  68.838710  \n",
       "\n",
       "[5 rows x 68 columns]"
      ]
     },
     "execution_count": 303,
     "metadata": {},
     "output_type": "execute_result"
    }
   ],
   "source": [
    "temps.head()"
   ]
  },
  {
   "cell_type": "code",
   "execution_count": 304,
   "metadata": {
    "slideshow": {
     "slide_type": "-"
    }
   },
   "outputs": [
    {
     "data": {
      "text/html": [
       "<div>\n",
       "<style scoped>\n",
       "    .dataframe tbody tr th:only-of-type {\n",
       "        vertical-align: middle;\n",
       "    }\n",
       "\n",
       "    .dataframe tbody tr th {\n",
       "        vertical-align: top;\n",
       "    }\n",
       "\n",
       "    .dataframe thead th {\n",
       "        text-align: right;\n",
       "    }\n",
       "</style>\n",
       "<table border=\"1\" class=\"dataframe\">\n",
       "  <thead>\n",
       "    <tr style=\"text-align: right;\">\n",
       "      <th></th>\n",
       "      <th>1949</th>\n",
       "      <th>1950</th>\n",
       "      <th>1951</th>\n",
       "      <th>1952</th>\n",
       "      <th>1953</th>\n",
       "      <th>1954</th>\n",
       "      <th>1955</th>\n",
       "      <th>1956</th>\n",
       "      <th>1957</th>\n",
       "      <th>1958</th>\n",
       "      <th>...</th>\n",
       "      <th>2007</th>\n",
       "      <th>2008</th>\n",
       "      <th>2009</th>\n",
       "      <th>2010</th>\n",
       "      <th>2011</th>\n",
       "      <th>2012</th>\n",
       "      <th>2013</th>\n",
       "      <th>2014</th>\n",
       "      <th>2015</th>\n",
       "      <th>2016</th>\n",
       "    </tr>\n",
       "  </thead>\n",
       "  <tbody>\n",
       "    <tr>\n",
       "      <th>0</th>\n",
       "      <td>0.77</td>\n",
       "      <td>8.91</td>\n",
       "      <td>6.80</td>\n",
       "      <td>4.89</td>\n",
       "      <td>12.92</td>\n",
       "      <td>8.36</td>\n",
       "      <td>3.35</td>\n",
       "      <td>8.67</td>\n",
       "      <td>2.41</td>\n",
       "      <td>8.72</td>\n",
       "      <td>...</td>\n",
       "      <td>6.22</td>\n",
       "      <td>4.26</td>\n",
       "      <td>5.40</td>\n",
       "      <td>6.17</td>\n",
       "      <td>4.99</td>\n",
       "      <td>6.83</td>\n",
       "      <td>4.16</td>\n",
       "      <td>3.70</td>\n",
       "      <td>3.66</td>\n",
       "      <td>7.45</td>\n",
       "    </tr>\n",
       "    <tr>\n",
       "      <th>1</th>\n",
       "      <td>5.89</td>\n",
       "      <td>5.74</td>\n",
       "      <td>8.76</td>\n",
       "      <td>2.46</td>\n",
       "      <td>3.70</td>\n",
       "      <td>4.38</td>\n",
       "      <td>4.30</td>\n",
       "      <td>2.17</td>\n",
       "      <td>5.57</td>\n",
       "      <td>5.36</td>\n",
       "      <td>...</td>\n",
       "      <td>3.38</td>\n",
       "      <td>1.47</td>\n",
       "      <td>1.51</td>\n",
       "      <td>3.52</td>\n",
       "      <td>3.05</td>\n",
       "      <td>3.63</td>\n",
       "      <td>1.58</td>\n",
       "      <td>6.11</td>\n",
       "      <td>5.27</td>\n",
       "      <td>5.97</td>\n",
       "    </tr>\n",
       "    <tr>\n",
       "      <th>2</th>\n",
       "      <td>3.54</td>\n",
       "      <td>8.40</td>\n",
       "      <td>3.76</td>\n",
       "      <td>3.52</td>\n",
       "      <td>3.72</td>\n",
       "      <td>2.07</td>\n",
       "      <td>3.25</td>\n",
       "      <td>4.95</td>\n",
       "      <td>6.26</td>\n",
       "      <td>2.26</td>\n",
       "      <td>...</td>\n",
       "      <td>4.42</td>\n",
       "      <td>3.65</td>\n",
       "      <td>4.16</td>\n",
       "      <td>3.76</td>\n",
       "      <td>6.29</td>\n",
       "      <td>7.20</td>\n",
       "      <td>2.74</td>\n",
       "      <td>9.44</td>\n",
       "      <td>4.47</td>\n",
       "      <td>5.52</td>\n",
       "    </tr>\n",
       "    <tr>\n",
       "      <th>3</th>\n",
       "      <td>1.18</td>\n",
       "      <td>2.92</td>\n",
       "      <td>0.65</td>\n",
       "      <td>2.03</td>\n",
       "      <td>2.10</td>\n",
       "      <td>2.64</td>\n",
       "      <td>3.64</td>\n",
       "      <td>0.33</td>\n",
       "      <td>2.23</td>\n",
       "      <td>3.51</td>\n",
       "      <td>...</td>\n",
       "      <td>0.69</td>\n",
       "      <td>1.90</td>\n",
       "      <td>3.36</td>\n",
       "      <td>3.49</td>\n",
       "      <td>4.47</td>\n",
       "      <td>2.68</td>\n",
       "      <td>5.89</td>\n",
       "      <td>4.18</td>\n",
       "      <td>2.03</td>\n",
       "      <td>1.19</td>\n",
       "    </tr>\n",
       "    <tr>\n",
       "      <th>4</th>\n",
       "      <td>1.30</td>\n",
       "      <td>0.78</td>\n",
       "      <td>1.61</td>\n",
       "      <td>0.99</td>\n",
       "      <td>2.51</td>\n",
       "      <td>1.89</td>\n",
       "      <td>1.95</td>\n",
       "      <td>0.83</td>\n",
       "      <td>1.17</td>\n",
       "      <td>0.94</td>\n",
       "      <td>...</td>\n",
       "      <td>1.46</td>\n",
       "      <td>0.89</td>\n",
       "      <td>3.61</td>\n",
       "      <td>2.83</td>\n",
       "      <td>3.20</td>\n",
       "      <td>2.05</td>\n",
       "      <td>2.38</td>\n",
       "      <td>3.15</td>\n",
       "      <td>0.58</td>\n",
       "      <td>0.94</td>\n",
       "    </tr>\n",
       "  </tbody>\n",
       "</table>\n",
       "<p>5 rows × 68 columns</p>\n",
       "</div>"
      ],
      "text/plain": [
       "   1949  1950  1951  1952   1953  1954  1955  1956  1957  1958  ...  2007  \\\n",
       "0  0.77  8.91  6.80  4.89  12.92  8.36  3.35  8.67  2.41  8.72  ...  6.22   \n",
       "1  5.89  5.74  8.76  2.46   3.70  4.38  4.30  2.17  5.57  5.36  ...  3.38   \n",
       "2  3.54  8.40  3.76  3.52   3.72  2.07  3.25  4.95  6.26  2.26  ...  4.42   \n",
       "3  1.18  2.92  0.65  2.03   2.10  2.64  3.64  0.33  2.23  3.51  ...  0.69   \n",
       "4  1.30  0.78  1.61  0.99   2.51  1.89  1.95  0.83  1.17  0.94  ...  1.46   \n",
       "\n",
       "   2008  2009  2010  2011  2012  2013  2014  2015  2016  \n",
       "0  4.26  5.40  6.17  4.99  6.83  4.16  3.70  3.66  7.45  \n",
       "1  1.47  1.51  3.52  3.05  3.63  1.58  6.11  5.27  5.97  \n",
       "2  3.65  4.16  3.76  6.29  7.20  2.74  9.44  4.47  5.52  \n",
       "3  1.90  3.36  3.49  4.47  2.68  5.89  4.18  2.03  1.19  \n",
       "4  0.89  3.61  2.83  3.20  2.05  2.38  3.15  0.58  0.94  \n",
       "\n",
       "[5 rows x 68 columns]"
      ]
     },
     "execution_count": 304,
     "metadata": {},
     "output_type": "execute_result"
    }
   ],
   "source": [
    "rain.head()"
   ]
  },
  {
   "cell_type": "markdown",
   "metadata": {
    "slideshow": {
     "slide_type": "slide"
    }
   },
   "source": [
    "## Create DataFrame with combined data"
   ]
  },
  {
   "cell_type": "code",
   "execution_count": 348,
   "metadata": {
    "slideshow": {
     "slide_type": "-"
    }
   },
   "outputs": [],
   "source": [
    "crossover = {}\n",
    "\n",
    "for yr, mon in prcp_sums.items():\n",
    "    for mo, data in mon.items():\n",
    "        crossover[str(yr)+'-'+str(mo)] = [data, yt_dic[yr][mo]]\n",
    "\n",
    "co=pd.DataFrame(index=crossover.keys())\n",
    "\n",
    "for yr, mo in crossover.items():\n",
    "    co[mo[0]] = mo[1]\n"
   ]
  },
  {
   "cell_type": "code",
   "execution_count": 359,
   "metadata": {
    "slideshow": {
     "slide_type": "-"
    }
   },
   "outputs": [],
   "source": [
    "co.sort_values(by='1949-1', axis=1, inplace=True)"
   ]
  },
  {
   "cell_type": "code",
   "execution_count": 373,
   "metadata": {
    "slideshow": {
     "slide_type": "subslide"
    }
   },
   "outputs": [
    {
     "data": {
      "image/png": "[encoded data removed]",
      "text/plain": [
       "<Figure size 432x288 with 1 Axes>"
      ]
     },
     "metadata": {
      "needs_background": "light"
     },
     "output_type": "display_data"
    }
   ],
   "source": [
    "co.plot(colormap='plasma', legend=False)\n",
    "ax1 = plt.axes()\n",
    "x_axis = ax1.axes.get_xaxis()\n",
    "x_axis.set_visible(False)"
   ]
  },
  {
   "cell_type": "markdown",
   "metadata": {
    "slideshow": {
     "slide_type": "slide"
    }
   },
   "source": [
    "## In Conclusion\n",
    "### The higher the temperature the lower the percipitation in Seattle"
   ]
  },
  {
   "cell_type": "markdown",
   "metadata": {
    "slideshow": {
     "slide_type": "subslide"
    }
   },
   "source": [
    "#### Source:\n",
    "  * https://www.kaggle.com/rtatman/did-it-rain-in-seattle-19482017"
   ]
  }
 ],
 "metadata": {
  "celltoolbar": "Slideshow",
  "kernelspec": {
   "display_name": "Python 3",
   "language": "python",
   "name": "python3"
  },
  "language_info": {
   "codemirror_mode": {
    "name": "ipython",
    "version": 3
   },
   "file_extension": ".py",
   "mimetype": "text/x-python",
   "name": "python",
   "nbconvert_exporter": "python",
   "pygments_lexer": "ipython3",
   "version": "3.7.2"
  }
 },
 "nbformat": 4,
 "nbformat_minor": 4
}
